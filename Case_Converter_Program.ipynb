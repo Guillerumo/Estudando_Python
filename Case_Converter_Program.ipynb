{
  "nbformat": 4,
  "nbformat_minor": 0,
  "metadata": {
    "colab": {
      "provenance": [],
      "authorship_tag": "ABX9TyNgxmBuQm/2wsiPDxRx3FyU",
      "include_colab_link": true
    },
    "kernelspec": {
      "name": "python3",
      "display_name": "Python 3"
    },
    "language_info": {
      "name": "python"
    }
  },
  "cells": [
    {
      "cell_type": "markdown",
      "metadata": {
        "id": "view-in-github",
        "colab_type": "text"
      },
      "source": [
        "<a href=\"https://colab.research.google.com/github/Guillerumo/Estudando_Python/blob/main/Case_Converter_Program.ipynb\" target=\"_parent\"><img src=\"https://colab.research.google.com/assets/colab-badge.svg\" alt=\"Open In Colab\"/></a>"
      ]
    },
    {
      "cell_type": "code",
      "execution_count": 6,
      "metadata": {
        "colab": {
          "base_uri": "https://localhost:8080/"
        },
        "id": "_57mw68vk5hv",
        "outputId": "b1c2fa0a-8278-4096-8f90-aa5c030d8e64"
      },
      "outputs": [
        {
          "output_type": "stream",
          "name": "stdout",
          "text": [
            "Introduce un texto: Amarillo Abajo sucio\n",
            "_a\n",
            "_am\n",
            "_ama\n",
            "_amar\n",
            "_amari\n",
            "_amaril\n",
            "_amarill\n",
            "_amarillo\n",
            "_amarillo \n",
            "_amarillo _a\n",
            "_amarillo _ab\n",
            "_amarillo _aba\n",
            "_amarillo _abaj\n",
            "_amarillo _abajo\n",
            "_amarillo _abajo \n",
            "_amarillo _abajo s\n",
            "_amarillo _abajo su\n",
            "_amarillo _abajo suc\n",
            "_amarillo _abajo suci\n",
            "_amarillo _abajo sucio\n"
          ]
        }
      ],
      "source": [
        "pascal_or_camel_cased_string = input('Introduce un texto: ')\n",
        "\n",
        "def convert_to_snake_case(pascal_or_camel_cased_string):\n",
        "    snake_cased_char_list = []\n",
        "    for char in pascal_or_camel_cased_string:\n",
        "        if char.isupper():\n",
        "            converted_character = '_' + char.lower()\n",
        "            snake_cased_char_list.append(converted_character)\n",
        "        else:\n",
        "            snake_cased_char_list.append(char)\n",
        "        snake_cased_string = ''.join(snake_cased_char_list)\n",
        "        print(snake_cased_string)\n",
        "\n",
        "convert_to_snake_case(pascal_or_camel_cased_string)\n"
      ]
    }
  ]
}