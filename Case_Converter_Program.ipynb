{
  "nbformat": 4,
  "nbformat_minor": 0,
  "metadata": {
    "colab": {
      "provenance": [],
      "authorship_tag": "ABX9TyOMolxp2/FYSv2wHGTM1PS9",
      "include_colab_link": true
    },
    "kernelspec": {
      "name": "python3",
      "display_name": "Python 3"
    },
    "language_info": {
      "name": "python"
    }
  },
  "cells": [
    {
      "cell_type": "markdown",
      "metadata": {
        "id": "view-in-github",
        "colab_type": "text"
      },
      "source": [
        "<a href=\"https://colab.research.google.com/github/Guillerumo/Estudando_Python/blob/main/Case_Converter_Program.ipynb\" target=\"_parent\"><img src=\"https://colab.research.google.com/assets/colab-badge.svg\" alt=\"Open In Colab\"/></a>"
      ]
    },
    {
      "cell_type": "code",
      "execution_count": null,
      "metadata": {
        "colab": {
          "base_uri": "https://localhost:8080/"
        },
        "id": "_57mw68vk5hv",
        "outputId": "b1c2fa0a-8278-4096-8f90-aa5c030d8e64"
      },
      "outputs": [
        {
          "output_type": "stream",
          "name": "stdout",
          "text": [
            "Introduce un texto: Amarillo Abajo sucio\n",
            "_a\n",
            "_am\n",
            "_ama\n",
            "_amar\n",
            "_amari\n",
            "_amaril\n",
            "_amarill\n",
            "_amarillo\n",
            "_amarillo \n",
            "_amarillo _a\n",
            "_amarillo _ab\n",
            "_amarillo _aba\n",
            "_amarillo _abaj\n",
            "_amarillo _abajo\n",
            "_amarillo _abajo \n",
            "_amarillo _abajo s\n",
            "_amarillo _abajo su\n",
            "_amarillo _abajo suc\n",
            "_amarillo _abajo suci\n",
            "_amarillo _abajo sucio\n"
          ]
        }
      ],
      "source": [
        "pascal_or_camel_cased_string = input('Introduce un texto: ') #Exemplo com input () para testar / Example with input() to test\n",
        "\n",
        "def convert_to_snake_case(pascal_or_camel_cased_string):\n",
        "    snake_cased_char_list = []\n",
        "    for char in pascal_or_camel_cased_string:\n",
        "        if char.isupper():\n",
        "            converted_character = '_' + char.lower()\n",
        "            snake_cased_char_list.append(converted_character)\n",
        "        else:\n",
        "            snake_cased_char_list.append(char)\n",
        "        snake_cased_string = ''.join(snake_cased_char_list)\n",
        "        print(snake_cased_string)\n",
        "\n",
        "convert_to_snake_case(pascal_or_camel_cased_string)\n"
      ]
    },
    {
      "cell_type": "code",
      "source": [
        "def convert_to_snake_case(pascal_or_camel_cased_string): #Forma final da função / Final form of the function\n",
        "    snake_cased_char_list = []\n",
        "    for char in pascal_or_camel_cased_string:\n",
        "        if char.isupper():\n",
        "            converted_character = '_' + char.lower()\n",
        "            snake_cased_char_list.append(converted_character)\n",
        "        else:\n",
        "            snake_cased_char_list.append(char)\n",
        "    snake_cased_string = ''.join(snake_cased_char_list)\n",
        "    clean_snake_cased_string = snake_cased_string.strip('_')\n",
        "\n",
        "    return clean_snake_cased_string\n",
        "\n",
        "def main():\n",
        "  print(convert_to_snake_case('aLongAndComplexString'))\n",
        "\n",
        "main()"
      ],
      "metadata": {
        "colab": {
          "base_uri": "https://localhost:8080/"
        },
        "id": "nY561BOSuuLz",
        "outputId": "8917373c-888a-417c-c9b0-2a8a640a2258"
      },
      "execution_count": 3,
      "outputs": [
        {
          "output_type": "stream",
          "name": "stdout",
          "text": [
            "a_long_and_complex_string\n"
          ]
        }
      ]
    },
    {
      "cell_type": "code",
      "source": [
        "def convert_to_snake_case(pascal_or_camel_cased_string): #Esta é a mesma função mas como uma 'List Comprehension' / This is the same function as a 'List Comprehension'\n",
        "\n",
        "    snake_cased_char_list = [\n",
        "        '_' + char.lower() if char.isupper()\n",
        "        else char\n",
        "        for char in pascal_or_camel_cased_string\n",
        "    ]\n",
        "\n",
        "    return ''.join(snake_cased_char_list).strip('_')\n",
        "\n",
        "def main():\n",
        "    print(convert_to_snake_case('IAmAPascalCasedString'))\n",
        "\n",
        "\n",
        "\n",
        "main()"
      ],
      "metadata": {
        "id": "a9_Hia957eD7"
      },
      "execution_count": null,
      "outputs": []
    }
  ]
}