{
  "nbformat": 4,
  "nbformat_minor": 0,
  "metadata": {
    "colab": {
      "provenance": [],
      "authorship_tag": "ABX9TyOUOeiZdyG1FCY4IYVpBSDz",
      "include_colab_link": true
    },
    "kernelspec": {
      "name": "python3",
      "display_name": "Python 3"
    },
    "language_info": {
      "name": "python"
    }
  },
  "cells": [
    {
      "cell_type": "markdown",
      "metadata": {
        "id": "view-in-github",
        "colab_type": "text"
      },
      "source": [
        "<a href=\"https://colab.research.google.com/github/Guillerumo/Estudando_Python/blob/main/Building_a_Shortest_Path_Algorithm.ipynb\" target=\"_parent\"><img src=\"https://colab.research.google.com/assets/colab-badge.svg\" alt=\"Open In Colab\"/></a>"
      ]
    },
    {
      "cell_type": "code",
      "execution_count": null,
      "metadata": {
        "id": "_Zd2oVnS_ygg"
      },
      "outputs": [],
      "source": [
        "my_graph = {\n",
        "    'A': [('B', 5), ('C', 3), ('E', 11)],\n",
        "    'B': [('A', 5), ('C', 1), ('F', 2)],\n",
        "    'C': [('A', 3), ('B', 1), ('D', 1), ('E', 5)],\n",
        "    'D': [('C',1 ), ('E', 9), ('F', 3)],\n",
        "    'E': [('A', 11), ('C', 5), ('D', 9)],\n",
        "    'F': [('B', 2), ('D', 3)]\n",
        "}\n",
        "\n",
        "def shortest_path(graph, start, target = ''):\n",
        "    unvisited = list(graph)\n",
        "    distances = {node: 0 if node == start else float('inf') for node in graph}\n",
        "    paths = {node: [] for node in graph}\n",
        "    paths[start].append(start)\n",
        "\n",
        "    while unvisited:\n",
        "        current = min(unvisited, key=distances.get)\n",
        "        for node, distance in graph[current]:\n",
        "            if distance + distances[current] < distances[node]:\n",
        "                distances[node] = distance + distances[current]\n",
        "                if paths[node] and paths[node][-1] == node:\n",
        "                    paths[node] = paths[current][:]\n",
        "                else:\n",
        "                    paths[node].extend(paths[current])\n",
        "                paths[node].append(node)\n",
        "        unvisited.remove(current)\n",
        "\n",
        "    targets_to_print = [target] if target else graph\n",
        "    for node in targets_to_print:\n",
        "        if node == start:\n",
        "            continue\n",
        "        print(f'\\n{start}-{node} distance: {distances[node]}\\nPath: {\" -> \".join(paths[node])}')\n",
        "\n",
        "    return distances, paths\n",
        "\n",
        "shortest_path(my_graph, 'A', 'F')"
      ]
    }
  ]
}